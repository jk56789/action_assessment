{
 "cells": [
  {
   "cell_type": "markdown",
   "metadata": {},
   "source": [
    "# 프레임 줄이기\n"
   ]
  },
  {
   "cell_type": "code",
   "execution_count": null,
   "metadata": {},
   "outputs": [],
   "source": [
    "import cv2\n",
    "import os\n",
    "\n",
    "## Trainer 경로\n",
    "raw_trainer_root_dir = 'D:/bagel/action_project2/data/'\n",
    "trainer_video_name = 'trainer2.mp4'\n",
    "trainer_video_dir = os.path.join(raw_trainer_root_dir,trainer_video_name)\n",
    "\n",
    "# 비디오 캡처 객체 생성\n",
    "cap = cv2.VideoCapture(trainer_video_dir)\n",
    "\n",
    "# 비디오 프로퍼티 확인\n",
    "frame_width = int(cap.get(cv2.CAP_PROP_FRAME_WIDTH))\n",
    "frame_height = int(cap.get(cv2.CAP_PROP_FRAME_HEIGHT))\n",
    "fps = cap.get(cv2.CAP_PROP_FPS) / 10  # 새 비디오의 FPS를 조정\n",
    "\n",
    "# 출력 비디오 설정\n",
    "fourcc = cv2.VideoWriter_fourcc(*'XVID')\n",
    "out = cv2.VideoWriter('D:/bagel/action_project2/data/short_trainer.mp4', fourcc, fps, (frame_width, frame_height))\n",
    "\n",
    "frame_index = 0\n",
    "\n",
    "# 비디오가 열렸는지 확인\n",
    "if not cap.isOpened():\n",
    "    print(\"Error opening video file\")\n",
    "else:\n",
    "    while True:\n",
    "        ret, frame = cap.read()\n",
    "        \n",
    "        # 프레임 읽기가 성공했는지 확인\n",
    "        if not ret:\n",
    "            break\n",
    "        \n",
    "        # 10 프레임마다 하나씩 저장\n",
    "        if frame_index % 2 == 0:\n",
    "            out.write(frame)\n",
    "        \n",
    "        frame_index += 1\n",
    "\n",
    "    # 자원 해제\n",
    "    cap.release()\n",
    "    out.release()\n",
    "    print(\"Video processing complete.\")"
   ]
  }
 ],
 "metadata": {
  "language_info": {
   "name": "python"
  }
 },
 "nbformat": 4,
 "nbformat_minor": 2
}
