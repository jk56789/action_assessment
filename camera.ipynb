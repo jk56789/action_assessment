{
 "cells": [
  {
   "cell_type": "markdown",
   "metadata": {},
   "source": [
    "## 기본 show"
   ]
  },
  {
   "cell_type": "code",
   "execution_count": 1,
   "metadata": {},
   "outputs": [],
   "source": [
    "import cv2\n",
    "import os\n",
    "\n",
    "raw_path = 'G:/공유 드라이브/R&D/DEX-001 (DEXULIN)/AI 자료/1.data/'\n",
    "video_name = 'squat_up_set2.mp4'\n",
    "video_dir = os.path.join(raw_path,video_name)\n",
    "\n",
    "cap1 = cv2.VideoCapture(video_dir)\n",
    "\n",
    "while True:\n",
    "    ret1, frame1 = cap1.read()\n",
    "\n",
    "    cv2.imshow('st', frame1)\n",
    "\n",
    "    if cv2.waitKey(10) & 0xFF == ord('q'):\n",
    "        break\n",
    "cap1.release()\n",
    "cv2.destroyAllWindows()"
   ]
  },
  {
   "cell_type": "markdown",
   "metadata": {},
   "source": [
    "## 좌우 flip"
   ]
  },
  {
   "cell_type": "code",
   "execution_count": 6,
   "metadata": {},
   "outputs": [],
   "source": [
    "import cv2\n",
    "cap1 = cv2.VideoCapture(0)\n",
    "\n",
    "while True:\n",
    "    ret1, frame1 = cap1.read()\n",
    "    if not ret1:\n",
    "        break\n",
    "\n",
    "    # 좌우 반전 추가\n",
    "    frame1 = cv2.flip(frame1, 1)\n",
    "  \n",
    "    cv2.imshow('st', frame1)\n",
    "\n",
    "    if cv2.waitKey(10) & 0xFF == ord('q'):\n",
    "        break\n",
    "\n",
    "cap1.release()\n",
    "cv2.destroyAllWindows()\n"
   ]
  },
  {
   "cell_type": "markdown",
   "metadata": {},
   "source": [
    "## 영상 저장"
   ]
  },
  {
   "cell_type": "code",
   "execution_count": 4,
   "metadata": {},
   "outputs": [],
   "source": [
    "import cv2\n",
    "\n",
    "# 비디오 캡처 시작\n",
    "cap1 = cv2.VideoCapture(0)\n",
    "\n",
    "# 캡처되는 비디오의 속성을 가져옴\n",
    "frame_width = int(cap1.get(3))\n",
    "frame_height = int(cap1.get(4))\n",
    "\n",
    "# VideoWriter 객체 생성\n",
    "out = cv2.VideoWriter('D:/bagel/action_project2/data/jkoutput.mp4', cv2.VideoWriter_fourcc(*'mp4v'), 20.0, (frame_width, frame_height))\n",
    "\n",
    "while True:\n",
    "    ret1, frame1 = cap1.read()\n",
    "    if not ret1:\n",
    "        break\n",
    "\n",
    "    # 좌우 반전 추가\n",
    "    frame1 = cv2.flip(frame1, 1)\n",
    "  \n",
    "    # 프레임 저장\n",
    "    out.write(frame1)\n",
    "\n",
    "    cv2.imshow('st', frame1)\n",
    "\n",
    "    if cv2.waitKey(10) & 0xFF == ord('q'):\n",
    "        break\n",
    "\n",
    "# 자원 해제\n",
    "cap1.release()\n",
    "out.release()\n",
    "cv2.destroyAllWindows()\n"
   ]
  },
  {
   "cell_type": "markdown",
   "metadata": {},
   "source": [
    "## 영상 좌우 concat, 저장\n"
   ]
  },
  {
   "cell_type": "code",
   "execution_count": 10,
   "metadata": {},
   "outputs": [],
   "source": [
    "import cv2\n",
    "import numpy as np\n",
    "\n",
    "# 두 개의 비디오 캡처 객체 생성\n",
    "cap1 = cv2.VideoCapture('D:/bagel/action_project2/data/stu3_28.mp4')  # 첫 번째 카메라\n",
    "cap2 = cv2.VideoCapture('D:/bagel/action_project2/data/stu8_71.mp4')  # 두 번째 카메라\n",
    "\n",
    "# 두 비디오의 속성 가져오기\n",
    "frame_width1 = int(cap1.get(3))\n",
    "frame_height1 = int(cap1.get(4))\n",
    "frame_width2 = int(cap2.get(3))\n",
    "frame_height2 = int(cap2.get(4))\n",
    "\n",
    "# 두 비디오의 크기를 동일하게 설정 (더 작은 크기로 조정)\n",
    "frame_width = min(frame_width1, frame_width2)\n",
    "frame_height = min(frame_height1, frame_height2)\n",
    "\n",
    "# VideoWriter 객체 생성\n",
    "out = cv2.VideoWriter('output.avi', cv2.VideoWriter_fourcc(*'XVID'), 20.0, (frame_width * 2, frame_height))\n",
    "\n",
    "while True:\n",
    "    ret1, frame1 = cap1.read()\n",
    "    ret2, frame2 = cap2.read()\n",
    "\n",
    "    if not ret1 or not ret2:\n",
    "        break\n",
    "\n",
    "    # 프레임 크기 조정\n",
    "    frame1 = cv2.resize(frame1, (frame_width, frame_height))\n",
    "    frame2 = cv2.resize(frame2, (frame_width, frame_height))\n",
    "\n",
    "    # 두 프레임을 좌우로 결합\n",
    "    #combined_frame = np.hstack((frame1, frame2))\n",
    "    \n",
    "    # 두 프레임을 상하로 결합\n",
    "    combined_frame = np.vstack((frame1, frame2))\n",
    "\n",
    "    # 결합된 프레임을 출력\n",
    "    cv2.imshow('Combined Stream', combined_frame)\n",
    "\n",
    "    # 결합된 프레임을 저장\n",
    "    out.write(combined_frame)\n",
    "\n",
    "    if cv2.waitKey(10) & 0xFF == ord('q'):\n",
    "        break\n",
    "\n",
    "# 자원 해제\n",
    "cap1.release()\n",
    "cap2.release()\n",
    "out.release()\n",
    "cv2.destroyAllWindows()\n"
   ]
  },
  {
   "cell_type": "markdown",
   "metadata": {},
   "source": [
    "## 영상 resize, 저장\n"
   ]
  },
  {
   "cell_type": "code",
   "execution_count": 9,
   "metadata": {},
   "outputs": [],
   "source": [
    "import cv2\n",
    "\n",
    "# 웹캠에서 비디오 캡처 시작\n",
    "cap = cv2.VideoCapture(0)\n",
    "\n",
    "# 조정할 새로운 크기 설정\n",
    "new_width = 1280\n",
    "new_height = 480\n",
    "\n",
    "# VideoWriter 객체 생성\n",
    "fourcc = cv2.VideoWriter_fourcc(*'XVID')\n",
    "out = cv2.VideoWriter('resized_output.avi', fourcc, 20.0, (new_width, new_height))\n",
    "\n",
    "while True:\n",
    "    ret, frame = cap.read()\n",
    "    if not ret:\n",
    "        break\n",
    "\n",
    "    # 프레임의 크기를 조정\n",
    "    resized_frame = cv2.resize(frame, (new_width, new_height))\n",
    "\n",
    "    # 조정된 프레임을 출력\n",
    "    cv2.imshow('Resized Frame', resized_frame)\n",
    "\n",
    "    # 조정된 프레임을 파일로 저장\n",
    "    out.write(resized_frame)\n",
    "\n",
    "    if cv2.waitKey(1) & 0xFF == ord('q'):\n",
    "        break\n",
    "\n",
    "# 자원 해제\n",
    "cap.release()\n",
    "out.release()\n",
    "cv2.destroyAllWindows()\n"
   ]
  },
  {
   "cell_type": "markdown",
   "metadata": {},
   "source": []
  }
 ],
 "metadata": {
  "kernelspec": {
   "display_name": "action_project",
   "language": "python",
   "name": "python3"
  },
  "language_info": {
   "codemirror_mode": {
    "name": "ipython",
    "version": 3
   },
   "file_extension": ".py",
   "mimetype": "text/x-python",
   "name": "python",
   "nbconvert_exporter": "python",
   "pygments_lexer": "ipython3",
   "version": "3.11.4"
  }
 },
 "nbformat": 4,
 "nbformat_minor": 2
}
